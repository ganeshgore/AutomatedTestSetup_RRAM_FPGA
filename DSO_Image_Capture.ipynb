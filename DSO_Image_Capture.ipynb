{
 "cells": [
  {
   "cell_type": "code",
   "execution_count": null,
   "metadata": {},
   "outputs": [],
   "source": [
    "import visa\n",
    "import rigol1000z as Rigol1000z\n",
    "from datetime import datetime\n",
    "import time\n",
    "from IPython.display import Image"
   ]
  },
  {
   "cell_type": "code",
   "execution_count": null,
   "metadata": {},
   "outputs": [],
   "source": [
    "rm = visa.ResourceManager()\n",
    "\n",
    "def screenshot(file_suff):\n",
    "    rm = visa.ResourceManager()\n",
    "    res = rm.list_resources()\n",
    "    #print( res )\n",
    "    ins = rm.get_instrument( res[0] ) # !\n",
    "\n",
    "    ins.write(\":DISP:DATA?\")\n",
    "    bmpdata = ins.read_raw()[2+9:]\n",
    "\n",
    "    ins.close()\n",
    "\n",
    "    # save image file\n",
    "    name = datetime.now().strftime(\"%Y-%m-%d_%H-%M-%S\")\n",
    "    print(\"Enter a filename-safe description (or none). Hit return.\")\n",
    "    comment = file_suff\n",
    "    if( len(comment) ):\n",
    "        name = name + \"_\" + comment\n",
    "\n",
    "    try:\n",
    "        from PIL import Image\n",
    "\n",
    "    except ImportError as e:\n",
    "        print(\"PIL(low) not imported because:\", e)\n",
    "        filename = name + \".png\"\n",
    "        print(\"Saving screen as\", filename)\n",
    "        with open( filename, \"wb\") as f:\n",
    "            f.write( bmpdata )\n",
    "    return filename"
   ]
  },
  {
   "cell_type": "code",
   "execution_count": null,
   "metadata": {},
   "outputs": [],
   "source": [
    "osc_resource = rm.open_resource(rm.list_resources()[0])\n",
    "\n",
    "osc = Rigol1000z.Rigol1000z(osc_resource)\n",
    "\n",
    "osc.timebase.set_timebase_scale_s_div(100E-3)\n",
    "for i in range(1,5):\n",
    "    osc[i].set_vertical_scale_V(1)\n",
    "    osc[i].set_probe_ratio(1)\n",
    "    osc[i].visa_write(':disp 1')\n",
    "    osc.visa_write(\":chan%d:OFFSet %.2f\"%(i,(i*2)-5))\n",
    "\n",
    "# Stop the scope.\n",
    "osc.stop()\n",
    "osc.set_single_shot()\n",
    "\n",
    "while(\"STOP\" not in str(osc.visa_ask(\":TRIG:STAT?\"))):\n",
    "    print(\".\")\n",
    "    time.sleep(0.5)\n",
    "    \n",
    "osc.visa_resource.close()\n",
    "filename = screenshot(\"SaveTest23\")\n",
    "print(\"Filename \" + filename)\n",
    "Image(filename=filename) "
   ]
  }
 ],
 "metadata": {
  "kernelspec": {
   "display_name": "Python 3",
   "language": "python",
   "name": "python3"
  },
  "language_info": {
   "codemirror_mode": {
    "name": "ipython",
    "version": 3
   },
   "file_extension": ".py",
   "mimetype": "text/x-python",
   "name": "python",
   "nbconvert_exporter": "python",
   "pygments_lexer": "ipython3",
   "version": "3.6.2"
  }
 },
 "nbformat": 4,
 "nbformat_minor": 2
}
